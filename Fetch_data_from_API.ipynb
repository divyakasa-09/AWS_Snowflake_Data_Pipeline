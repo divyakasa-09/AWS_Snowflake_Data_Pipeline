{
  "cells": [
    {
      "cell_type": "code",
      "execution_count": null,
      "metadata": {
        "colab": {
          "base_uri": "https://localhost:8080/"
        },
        "id": "07a_bTm-evZo",
        "outputId": "df019dbe-3bd6-4a8c-fe9b-9b914989888f"
      },
      "outputs": [],
      "source": [
        "!pip install boto3"
      ]
    },
    {
      "cell_type": "code",
      "execution_count": null,
      "metadata": {
        "id": "ANoxCS1AOqDr"
      },
      "outputs": [],
      "source": [
        "kinesis_client = boto3.client('kinesis', region_name='us-east-1', aws_access_key_id='',\n",
        "     aws_secret_access_key='')"
      ]
    },
    {
      "cell_type": "code",
      "execution_count": null,
      "metadata": {
        "colab": {
          "base_uri": "https://localhost:8080/",
          "height": 384
        },
        "id": "nr0aiAoJe0rG",
        "outputId": "1d2e876e-5e4f-41f3-ed0c-16e6854d2648"
      },
      "outputs": [],
      "source": [
        "import requests\n",
        "\n",
        "import boto3\n",
        "import requests\n",
        "import json\n",
        "import time\n",
        "import pandas as pd\n",
        "\n",
        "# Initialize Kinesis client\n",
        "\n",
        "\n",
        "def send_to_kinesis(data):\n",
        "    # Send data to Kinesis stream\n",
        "    data_record = json.dumps(data)\n",
        "    kinesis_client.put_record(StreamName='my-kinesis-stream', Data=data_record, PartitionKey='1')\n",
        "\n",
        "def invoke_api():\n",
        "    # API Gateway endpoint URL\n",
        "\n",
        "    api_endpoint = 'https://vf23h36ius.us-east-2.awsapprunner.com/fetch_data'\n",
        "    # Define the parameters\n",
        "    params = {\n",
        "        'year': '2007',\n",
        "    }\n",
        "    # Make a GET request to the API\n",
        "    response = requests.get(api_endpoint, params=params)\n",
        "\n",
        "    json_data = json.loads(json.loads(response.text))\n",
        "\n",
        "    print(len(json_data))\n",
        "\n",
        "    for i in range(0,len(json_data)):\n",
        "        send_to_kinesis(json_data[i])\n",
        "\n",
        "    #print(i)\n",
        "\n",
        "invoke_api()\n"
      ]
    },
    {
      "cell_type": "code",
      "execution_count": null,
      "metadata": {
        "id": "rF2A3fFJATk7"
      },
      "outputs": [],
      "source": [
        "json.loads(json.loads(response.text))[0]"
      ]
    },
    {
      "cell_type": "code",
      "execution_count": null,
      "metadata": {
        "colab": {
          "base_uri": "https://localhost:8080/"
        },
        "id": "owkpPjbsBDdJ",
        "outputId": "50ce271d-d689-4f59-8161-132f09dd952f"
      },
      "outputs": [
        {
          "data": {
            "text/plain": [
              "12"
            ]
          },
          "execution_count": 28,
          "metadata": {},
          "output_type": "execute_result"
        }
      ],
      "source": [
        "len(json.loads(json.loads(response.text)))"
      ]
    },
    {
      "cell_type": "markdown",
      "metadata": {},
      "source": []
    },
    {
      "cell_type": "code",
      "execution_count": null,
      "metadata": {
        "id": "T6jt8ivbNNXJ"
      },
      "outputs": [],
      "source": []
    }
  ],
  "metadata": {
    "colab": {
      "provenance": []
    },
    "kernelspec": {
      "display_name": "Python 3",
      "name": "python3"
    },
    "language_info": {
      "name": "python"
    }
  },
  "nbformat": 4,
  "nbformat_minor": 0
}
